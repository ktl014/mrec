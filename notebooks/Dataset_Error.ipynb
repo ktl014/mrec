{
 "cells": [
  {
   "cell_type": "markdown",
   "metadata": {},
   "source": [
    "# Here I will show there are overlapping sentences in the train, validation and test set"
   ]
  },
  {
   "cell_type": "code",
   "execution_count": 1,
   "metadata": {},
   "outputs": [
    {
     "name": "stdout",
     "output_type": "stream",
     "text": [
      "C:\\Personal_Data\\Machine_Learning_Project\\Medical_Information_Extraction\\mrec\n"
     ]
    }
   ],
   "source": [
    "cd .."
   ]
  },
  {
   "cell_type": "code",
   "execution_count": 23,
   "metadata": {},
   "outputs": [],
   "source": [
    "import pandas as pd\n",
    "from mrec.data.dataset import load_data"
   ]
  },
  {
   "cell_type": "code",
   "execution_count": 4,
   "metadata": {},
   "outputs": [
    {
     "name": "stdout",
     "output_type": "stream",
     "text": [
      "[2020-12-22 19:48:58,245] [DEBUG] [mrec.data.dataset::load_data::48] Loaded dataset (train:dataset/raw/train.csv)\n",
      "[2020-12-22 19:48:58,267] [DEBUG] [mrec.data.dataset::load_data::48] Loaded dataset (validation:dataset/raw/validation.csv)\n",
      "[2020-12-22 19:48:58,288] [DEBUG] [mrec.data.dataset::load_data::48] Loaded dataset (test:dataset/raw/test.csv)\n"
     ]
    }
   ],
   "source": [
    "csv_fnames = {'train': 'dataset/raw/train.csv', 'validation': 'dataset/raw/validation.csv', 'test': 'dataset/raw/test.csv'}\n",
    "dataset = load_data(csv_fnames)"
   ]
  },
  {
   "cell_type": "code",
   "execution_count": 25,
   "metadata": {},
   "outputs": [],
   "source": [
    "cols = ['_unit_id', 'relation', 'sentence', 'direction', 'term1', 'term2']\n",
    "train = dataset.train[cols]\n",
    "validation = dataset.validation[cols]\n",
    "test= dataset.test[cols]"
   ]
  },
  {
   "cell_type": "markdown",
   "metadata": {},
   "source": [
    "### Here I will show the inconsistent in labeling `relation` on sentences. I will group `_unit_id`, `relation`, `sentence`, `term1`, and `term2` and do a majority vote on `direction` to remove duplicates. Then I will show that same sentences can have different relation"
   ]
  },
  {
   "cell_type": "code",
   "execution_count": 91,
   "metadata": {},
   "outputs": [],
   "source": [
    "group_cols = ['_unit_id', 'relation', 'sentence', 'term1', 'term2']\n",
    "\n",
    "train_no_dup = train.groupby(group_cols)['direction'].agg(pd.Series.mode).reset_index()\n",
    "val_no_dup = validation.groupby(group_cols)['direction'].agg(pd.Series.mode).reset_index()\n",
    "test_no_dup = test.groupby(group_cols)['direction'].agg(pd.Series.mode).reset_index()"
   ]
  },
  {
   "cell_type": "code",
   "execution_count": 104,
   "metadata": {},
   "outputs": [
    {
     "data": {
      "text/html": [
       "<div>\n",
       "<style scoped>\n",
       "    .dataframe tbody tr th:only-of-type {\n",
       "        vertical-align: middle;\n",
       "    }\n",
       "\n",
       "    .dataframe tbody tr th {\n",
       "        vertical-align: top;\n",
       "    }\n",
       "\n",
       "    .dataframe thead th {\n",
       "        text-align: right;\n",
       "    }\n",
       "</style>\n",
       "<table border=\"1\" class=\"dataframe\">\n",
       "  <thead>\n",
       "    <tr style=\"text-align: right;\">\n",
       "      <th></th>\n",
       "      <th>sentence</th>\n",
       "      <th>show-up counts</th>\n",
       "    </tr>\n",
       "  </thead>\n",
       "  <tbody>\n",
       "    <tr>\n",
       "      <th>14</th>\n",
       "      <td>1 ,   14 ,   15 ,   17 ,   18 ,   41  Administ...</td>\n",
       "      <td>2</td>\n",
       "    </tr>\n",
       "    <tr>\n",
       "      <th>44</th>\n",
       "      <td>118  Plague  Has been used for treatment of PL...</td>\n",
       "      <td>2</td>\n",
       "    </tr>\n",
       "    <tr>\n",
       "      <th>60</th>\n",
       "      <td>164  Babesiosis  Treatment of BABESIOSIS   +  ...</td>\n",
       "      <td>3</td>\n",
       "    </tr>\n",
       "    <tr>\n",
       "      <th>73</th>\n",
       "      <td>1]  Henzl MR, Corson SL, Moghissi K, Buttram V...</td>\n",
       "      <td>2</td>\n",
       "    </tr>\n",
       "    <tr>\n",
       "      <th>75</th>\n",
       "      <td>1]  Knauf H, Mutschler E. Diuretic effectivene...</td>\n",
       "      <td>3</td>\n",
       "    </tr>\n",
       "  </tbody>\n",
       "</table>\n",
       "</div>"
      ],
      "text/plain": [
       "                                             sentence  show-up counts\n",
       "14  1 ,   14 ,   15 ,   17 ,   18 ,   41  Administ...               2\n",
       "44  118  Plague  Has been used for treatment of PL...               2\n",
       "60  164  Babesiosis  Treatment of BABESIOSIS   +  ...               3\n",
       "73  1]  Henzl MR, Corson SL, Moghissi K, Buttram V...               2\n",
       "75  1]  Knauf H, Mutschler E. Diuretic effectivene...               3"
      ]
     },
     "execution_count": 104,
     "metadata": {},
     "output_type": "execute_result"
    }
   ],
   "source": [
    "grouped_df = train_no_dup.groupby(['sentence']).size().reset_index(name='show-up counts')\n",
    "grouped_df[grouped_df['show-up counts'] > 1].head()"
   ]
  },
  {
   "cell_type": "markdown",
   "metadata": {},
   "source": [
    "__We see that we still have duplicated sentences. Let's look close to sentence that have 3 duplicates after doing majority vote__"
   ]
  },
  {
   "cell_type": "code",
   "execution_count": 100,
   "metadata": {},
   "outputs": [
    {
     "data": {
      "text/html": [
       "<div>\n",
       "<style scoped>\n",
       "    .dataframe tbody tr th:only-of-type {\n",
       "        vertical-align: middle;\n",
       "    }\n",
       "\n",
       "    .dataframe tbody tr th {\n",
       "        vertical-align: top;\n",
       "    }\n",
       "\n",
       "    .dataframe thead th {\n",
       "        text-align: right;\n",
       "    }\n",
       "</style>\n",
       "<table border=\"1\" class=\"dataframe\">\n",
       "  <thead>\n",
       "    <tr style=\"text-align: right;\">\n",
       "      <th></th>\n",
       "      <th>_unit_id</th>\n",
       "      <th>relation</th>\n",
       "      <th>sentence</th>\n",
       "      <th>term1</th>\n",
       "      <th>term2</th>\n",
       "      <th>direction</th>\n",
       "    </tr>\n",
       "  </thead>\n",
       "  <tbody>\n",
       "    <tr>\n",
       "      <th>1111</th>\n",
       "      <td>724534033</td>\n",
       "      <td>causes</td>\n",
       "      <td>164  Babesiosis  Treatment of BABESIOSIS   +  ...</td>\n",
       "      <td>BABESIOSIS</td>\n",
       "      <td>BABESIA MICROTI</td>\n",
       "      <td>BABESIA MICROTI causes BABESIOSIS</td>\n",
       "    </tr>\n",
       "    <tr>\n",
       "      <th>1138</th>\n",
       "      <td>724919815</td>\n",
       "      <td>causes</td>\n",
       "      <td>164  Babesiosis  Treatment of BABESIOSIS   +  ...</td>\n",
       "      <td>BABESIOSIS</td>\n",
       "      <td>BABESIA MICROTI</td>\n",
       "      <td>BABESIA MICROTI causes BABESIOSIS</td>\n",
       "    </tr>\n",
       "    <tr>\n",
       "      <th>1608</th>\n",
       "      <td>789214508</td>\n",
       "      <td>treats</td>\n",
       "      <td>164  Babesiosis  Treatment of BABESIOSIS   +  ...</td>\n",
       "      <td>BABESIOSIS</td>\n",
       "      <td>BABESIA MICROTI</td>\n",
       "      <td>[BABESIOSIS treats BABESIA MICROTI, no_relation]</td>\n",
       "    </tr>\n",
       "  </tbody>\n",
       "</table>\n",
       "</div>"
      ],
      "text/plain": [
       "       _unit_id relation                                           sentence  \\\n",
       "1111  724534033   causes  164  Babesiosis  Treatment of BABESIOSIS   +  ...   \n",
       "1138  724919815   causes  164  Babesiosis  Treatment of BABESIOSIS   +  ...   \n",
       "1608  789214508   treats  164  Babesiosis  Treatment of BABESIOSIS   +  ...   \n",
       "\n",
       "           term1            term2  \\\n",
       "1111  BABESIOSIS  BABESIA MICROTI   \n",
       "1138  BABESIOSIS  BABESIA MICROTI   \n",
       "1608  BABESIOSIS  BABESIA MICROTI   \n",
       "\n",
       "                                             direction  \n",
       "1111                 BABESIA MICROTI causes BABESIOSIS  \n",
       "1138                 BABESIA MICROTI causes BABESIOSIS  \n",
       "1608  [BABESIOSIS treats BABESIA MICROTI, no_relation]  "
      ]
     },
     "execution_count": 100,
     "metadata": {},
     "output_type": "execute_result"
    }
   ],
   "source": [
    "sentence = '164  Babesiosis  Treatment of BABESIOSIS   +    caused by  BABESIA MICROTI.'\n",
    "train_no_dup[train_no_dup['sentence'] == sentence]"
   ]
  },
  {
   "cell_type": "markdown",
   "metadata": {},
   "source": [
    "__This sentence have duplicates beucase it has different `_unit_id` and `relation`. If we do majority vote without grouping `_unit_id`, we still have sentence duplicated and have different relation. Hence this train dataset is inconsistent in labeling relation for each unique sentence__"
   ]
  },
  {
   "cell_type": "code",
   "execution_count": 113,
   "metadata": {},
   "outputs": [
    {
     "name": "stdout",
     "output_type": "stream",
     "text": [
      "Number of rows after do majority vote: 1868\n",
      "Number of duplicate sentences: 250\n",
      "Normalize: 13.38%\n"
     ]
    }
   ],
   "source": [
    "duplicates = train_no_dup['sentence'].duplicated().sum()\n",
    "dset_size = train_no_dup.shape[0]\n",
    "print('Number of rows after do majority vote:', dset_size)\n",
    "print('Number of duplicate sentences:', duplicates)\n",
    "print('Normalize: {:.2f}%'.format(duplicates / dset_size * 100))"
   ]
  },
  {
   "cell_type": "markdown",
   "metadata": {},
   "source": [
    "__Here is what that sentence look like in raw train set__"
   ]
  },
  {
   "cell_type": "code",
   "execution_count": 114,
   "metadata": {},
   "outputs": [
    {
     "data": {
      "text/html": [
       "<div>\n",
       "<style scoped>\n",
       "    .dataframe tbody tr th:only-of-type {\n",
       "        vertical-align: middle;\n",
       "    }\n",
       "\n",
       "    .dataframe tbody tr th {\n",
       "        vertical-align: top;\n",
       "    }\n",
       "\n",
       "    .dataframe thead th {\n",
       "        text-align: right;\n",
       "    }\n",
       "</style>\n",
       "<table border=\"1\" class=\"dataframe\">\n",
       "  <thead>\n",
       "    <tr style=\"text-align: right;\">\n",
       "      <th></th>\n",
       "      <th>_unit_id</th>\n",
       "      <th>relation</th>\n",
       "      <th>sentence</th>\n",
       "      <th>direction</th>\n",
       "      <th>term1</th>\n",
       "      <th>term2</th>\n",
       "    </tr>\n",
       "  </thead>\n",
       "  <tbody>\n",
       "    <tr>\n",
       "      <th>8041</th>\n",
       "      <td>724534033</td>\n",
       "      <td>causes</td>\n",
       "      <td>164  Babesiosis  Treatment of BABESIOSIS   +  ...</td>\n",
       "      <td>BABESIA MICROTI causes BABESIOSIS</td>\n",
       "      <td>BABESIOSIS</td>\n",
       "      <td>BABESIA MICROTI</td>\n",
       "    </tr>\n",
       "    <tr>\n",
       "      <th>8042</th>\n",
       "      <td>724534033</td>\n",
       "      <td>causes</td>\n",
       "      <td>164  Babesiosis  Treatment of BABESIOSIS   +  ...</td>\n",
       "      <td>BABESIA MICROTI causes BABESIOSIS</td>\n",
       "      <td>BABESIOSIS</td>\n",
       "      <td>BABESIA MICROTI</td>\n",
       "    </tr>\n",
       "    <tr>\n",
       "      <th>8043</th>\n",
       "      <td>724534033</td>\n",
       "      <td>causes</td>\n",
       "      <td>164  Babesiosis  Treatment of BABESIOSIS   +  ...</td>\n",
       "      <td>BABESIA MICROTI causes BABESIOSIS</td>\n",
       "      <td>BABESIOSIS</td>\n",
       "      <td>BABESIA MICROTI</td>\n",
       "    </tr>\n",
       "    <tr>\n",
       "      <th>8044</th>\n",
       "      <td>724534033</td>\n",
       "      <td>causes</td>\n",
       "      <td>164  Babesiosis  Treatment of BABESIOSIS   +  ...</td>\n",
       "      <td>BABESIOSIS causes BABESIA MICROTI</td>\n",
       "      <td>BABESIOSIS</td>\n",
       "      <td>BABESIA MICROTI</td>\n",
       "    </tr>\n",
       "    <tr>\n",
       "      <th>8045</th>\n",
       "      <td>724534033</td>\n",
       "      <td>causes</td>\n",
       "      <td>164  Babesiosis  Treatment of BABESIOSIS   +  ...</td>\n",
       "      <td>no_relation</td>\n",
       "      <td>BABESIOSIS</td>\n",
       "      <td>BABESIA MICROTI</td>\n",
       "    </tr>\n",
       "    <tr>\n",
       "      <th>8046</th>\n",
       "      <td>724534033</td>\n",
       "      <td>causes</td>\n",
       "      <td>164  Babesiosis  Treatment of BABESIOSIS   +  ...</td>\n",
       "      <td>BABESIA MICROTI causes BABESIOSIS</td>\n",
       "      <td>BABESIOSIS</td>\n",
       "      <td>BABESIA MICROTI</td>\n",
       "    </tr>\n",
       "    <tr>\n",
       "      <th>8047</th>\n",
       "      <td>724534033</td>\n",
       "      <td>causes</td>\n",
       "      <td>164  Babesiosis  Treatment of BABESIOSIS   +  ...</td>\n",
       "      <td>BABESIA MICROTI causes BABESIOSIS</td>\n",
       "      <td>BABESIOSIS</td>\n",
       "      <td>BABESIA MICROTI</td>\n",
       "    </tr>\n",
       "    <tr>\n",
       "      <th>8230</th>\n",
       "      <td>724919815</td>\n",
       "      <td>causes</td>\n",
       "      <td>164  Babesiosis  Treatment of BABESIOSIS   +  ...</td>\n",
       "      <td>BABESIA MICROTI causes BABESIOSIS</td>\n",
       "      <td>BABESIOSIS</td>\n",
       "      <td>BABESIA MICROTI</td>\n",
       "    </tr>\n",
       "    <tr>\n",
       "      <th>8231</th>\n",
       "      <td>724919815</td>\n",
       "      <td>causes</td>\n",
       "      <td>164  Babesiosis  Treatment of BABESIOSIS   +  ...</td>\n",
       "      <td>BABESIA MICROTI causes BABESIOSIS</td>\n",
       "      <td>BABESIOSIS</td>\n",
       "      <td>BABESIA MICROTI</td>\n",
       "    </tr>\n",
       "    <tr>\n",
       "      <th>8232</th>\n",
       "      <td>724919815</td>\n",
       "      <td>causes</td>\n",
       "      <td>164  Babesiosis  Treatment of BABESIOSIS   +  ...</td>\n",
       "      <td>BABESIA MICROTI causes BABESIOSIS</td>\n",
       "      <td>BABESIOSIS</td>\n",
       "      <td>BABESIA MICROTI</td>\n",
       "    </tr>\n",
       "    <tr>\n",
       "      <th>8233</th>\n",
       "      <td>724919815</td>\n",
       "      <td>causes</td>\n",
       "      <td>164  Babesiosis  Treatment of BABESIOSIS   +  ...</td>\n",
       "      <td>BABESIA MICROTI causes BABESIOSIS</td>\n",
       "      <td>BABESIOSIS</td>\n",
       "      <td>BABESIA MICROTI</td>\n",
       "    </tr>\n",
       "    <tr>\n",
       "      <th>8234</th>\n",
       "      <td>724919815</td>\n",
       "      <td>causes</td>\n",
       "      <td>164  Babesiosis  Treatment of BABESIOSIS   +  ...</td>\n",
       "      <td>no_relation</td>\n",
       "      <td>BABESIOSIS</td>\n",
       "      <td>BABESIA MICROTI</td>\n",
       "    </tr>\n",
       "    <tr>\n",
       "      <th>8235</th>\n",
       "      <td>724919815</td>\n",
       "      <td>causes</td>\n",
       "      <td>164  Babesiosis  Treatment of BABESIOSIS   +  ...</td>\n",
       "      <td>BABESIA MICROTI causes BABESIOSIS</td>\n",
       "      <td>BABESIOSIS</td>\n",
       "      <td>BABESIA MICROTI</td>\n",
       "    </tr>\n",
       "    <tr>\n",
       "      <th>8236</th>\n",
       "      <td>724919815</td>\n",
       "      <td>causes</td>\n",
       "      <td>164  Babesiosis  Treatment of BABESIOSIS   +  ...</td>\n",
       "      <td>BABESIOSIS causes BABESIA MICROTI</td>\n",
       "      <td>BABESIOSIS</td>\n",
       "      <td>BABESIA MICROTI</td>\n",
       "    </tr>\n",
       "    <tr>\n",
       "      <th>11520</th>\n",
       "      <td>789214508</td>\n",
       "      <td>treats</td>\n",
       "      <td>164  Babesiosis  Treatment of BABESIOSIS   +  ...</td>\n",
       "      <td>no_relation</td>\n",
       "      <td>BABESIOSIS</td>\n",
       "      <td>BABESIA MICROTI</td>\n",
       "    </tr>\n",
       "    <tr>\n",
       "      <th>11521</th>\n",
       "      <td>789214508</td>\n",
       "      <td>treats</td>\n",
       "      <td>164  Babesiosis  Treatment of BABESIOSIS   +  ...</td>\n",
       "      <td>BABESIA MICROTI treats BABESIOSIS</td>\n",
       "      <td>BABESIOSIS</td>\n",
       "      <td>BABESIA MICROTI</td>\n",
       "    </tr>\n",
       "    <tr>\n",
       "      <th>11522</th>\n",
       "      <td>789214508</td>\n",
       "      <td>treats</td>\n",
       "      <td>164  Babesiosis  Treatment of BABESIOSIS   +  ...</td>\n",
       "      <td>BABESIOSIS treats BABESIA MICROTI</td>\n",
       "      <td>BABESIOSIS</td>\n",
       "      <td>BABESIA MICROTI</td>\n",
       "    </tr>\n",
       "    <tr>\n",
       "      <th>11523</th>\n",
       "      <td>789214508</td>\n",
       "      <td>treats</td>\n",
       "      <td>164  Babesiosis  Treatment of BABESIOSIS   +  ...</td>\n",
       "      <td>no_relation</td>\n",
       "      <td>BABESIOSIS</td>\n",
       "      <td>BABESIA MICROTI</td>\n",
       "    </tr>\n",
       "    <tr>\n",
       "      <th>11524</th>\n",
       "      <td>789214508</td>\n",
       "      <td>treats</td>\n",
       "      <td>164  Babesiosis  Treatment of BABESIOSIS   +  ...</td>\n",
       "      <td>no_relation</td>\n",
       "      <td>BABESIOSIS</td>\n",
       "      <td>BABESIA MICROTI</td>\n",
       "    </tr>\n",
       "    <tr>\n",
       "      <th>11525</th>\n",
       "      <td>789214508</td>\n",
       "      <td>treats</td>\n",
       "      <td>164  Babesiosis  Treatment of BABESIOSIS   +  ...</td>\n",
       "      <td>BABESIOSIS treats BABESIA MICROTI</td>\n",
       "      <td>BABESIOSIS</td>\n",
       "      <td>BABESIA MICROTI</td>\n",
       "    </tr>\n",
       "    <tr>\n",
       "      <th>11526</th>\n",
       "      <td>789214508</td>\n",
       "      <td>treats</td>\n",
       "      <td>164  Babesiosis  Treatment of BABESIOSIS   +  ...</td>\n",
       "      <td>BABESIOSIS treats BABESIA MICROTI</td>\n",
       "      <td>BABESIOSIS</td>\n",
       "      <td>BABESIA MICROTI</td>\n",
       "    </tr>\n",
       "  </tbody>\n",
       "</table>\n",
       "</div>"
      ],
      "text/plain": [
       "        _unit_id relation                                           sentence  \\\n",
       "8041   724534033   causes  164  Babesiosis  Treatment of BABESIOSIS   +  ...   \n",
       "8042   724534033   causes  164  Babesiosis  Treatment of BABESIOSIS   +  ...   \n",
       "8043   724534033   causes  164  Babesiosis  Treatment of BABESIOSIS   +  ...   \n",
       "8044   724534033   causes  164  Babesiosis  Treatment of BABESIOSIS   +  ...   \n",
       "8045   724534033   causes  164  Babesiosis  Treatment of BABESIOSIS   +  ...   \n",
       "8046   724534033   causes  164  Babesiosis  Treatment of BABESIOSIS   +  ...   \n",
       "8047   724534033   causes  164  Babesiosis  Treatment of BABESIOSIS   +  ...   \n",
       "8230   724919815   causes  164  Babesiosis  Treatment of BABESIOSIS   +  ...   \n",
       "8231   724919815   causes  164  Babesiosis  Treatment of BABESIOSIS   +  ...   \n",
       "8232   724919815   causes  164  Babesiosis  Treatment of BABESIOSIS   +  ...   \n",
       "8233   724919815   causes  164  Babesiosis  Treatment of BABESIOSIS   +  ...   \n",
       "8234   724919815   causes  164  Babesiosis  Treatment of BABESIOSIS   +  ...   \n",
       "8235   724919815   causes  164  Babesiosis  Treatment of BABESIOSIS   +  ...   \n",
       "8236   724919815   causes  164  Babesiosis  Treatment of BABESIOSIS   +  ...   \n",
       "11520  789214508   treats  164  Babesiosis  Treatment of BABESIOSIS   +  ...   \n",
       "11521  789214508   treats  164  Babesiosis  Treatment of BABESIOSIS   +  ...   \n",
       "11522  789214508   treats  164  Babesiosis  Treatment of BABESIOSIS   +  ...   \n",
       "11523  789214508   treats  164  Babesiosis  Treatment of BABESIOSIS   +  ...   \n",
       "11524  789214508   treats  164  Babesiosis  Treatment of BABESIOSIS   +  ...   \n",
       "11525  789214508   treats  164  Babesiosis  Treatment of BABESIOSIS   +  ...   \n",
       "11526  789214508   treats  164  Babesiosis  Treatment of BABESIOSIS   +  ...   \n",
       "\n",
       "                               direction       term1            term2  \n",
       "8041   BABESIA MICROTI causes BABESIOSIS  BABESIOSIS  BABESIA MICROTI  \n",
       "8042   BABESIA MICROTI causes BABESIOSIS  BABESIOSIS  BABESIA MICROTI  \n",
       "8043   BABESIA MICROTI causes BABESIOSIS  BABESIOSIS  BABESIA MICROTI  \n",
       "8044   BABESIOSIS causes BABESIA MICROTI  BABESIOSIS  BABESIA MICROTI  \n",
       "8045                         no_relation  BABESIOSIS  BABESIA MICROTI  \n",
       "8046   BABESIA MICROTI causes BABESIOSIS  BABESIOSIS  BABESIA MICROTI  \n",
       "8047   BABESIA MICROTI causes BABESIOSIS  BABESIOSIS  BABESIA MICROTI  \n",
       "8230   BABESIA MICROTI causes BABESIOSIS  BABESIOSIS  BABESIA MICROTI  \n",
       "8231   BABESIA MICROTI causes BABESIOSIS  BABESIOSIS  BABESIA MICROTI  \n",
       "8232   BABESIA MICROTI causes BABESIOSIS  BABESIOSIS  BABESIA MICROTI  \n",
       "8233   BABESIA MICROTI causes BABESIOSIS  BABESIOSIS  BABESIA MICROTI  \n",
       "8234                         no_relation  BABESIOSIS  BABESIA MICROTI  \n",
       "8235   BABESIA MICROTI causes BABESIOSIS  BABESIOSIS  BABESIA MICROTI  \n",
       "8236   BABESIOSIS causes BABESIA MICROTI  BABESIOSIS  BABESIA MICROTI  \n",
       "11520                        no_relation  BABESIOSIS  BABESIA MICROTI  \n",
       "11521  BABESIA MICROTI treats BABESIOSIS  BABESIOSIS  BABESIA MICROTI  \n",
       "11522  BABESIOSIS treats BABESIA MICROTI  BABESIOSIS  BABESIA MICROTI  \n",
       "11523                        no_relation  BABESIOSIS  BABESIA MICROTI  \n",
       "11524                        no_relation  BABESIOSIS  BABESIA MICROTI  \n",
       "11525  BABESIOSIS treats BABESIA MICROTI  BABESIOSIS  BABESIA MICROTI  \n",
       "11526  BABESIOSIS treats BABESIA MICROTI  BABESIOSIS  BABESIA MICROTI  "
      ]
     },
     "execution_count": 114,
     "metadata": {},
     "output_type": "execute_result"
    }
   ],
   "source": [
    "train[train['sentence'] == sentence]"
   ]
  },
  {
   "cell_type": "markdown",
   "metadata": {},
   "source": [
    "__Here is how severe this case is in validation set__"
   ]
  },
  {
   "cell_type": "code",
   "execution_count": 115,
   "metadata": {},
   "outputs": [
    {
     "name": "stdout",
     "output_type": "stream",
     "text": [
      "Number of rows after do majority vote: 623\n",
      "Number of duplicate sentences: 39\n",
      "Normalize: 6.26%\n"
     ]
    }
   ],
   "source": [
    "duplicates = val_no_dup['sentence'].duplicated().sum()\n",
    "dset_size = val_no_dup.shape[0]\n",
    "print('Number of rows after do majority vote:', dset_size)\n",
    "print('Number of duplicate sentences:', duplicates)\n",
    "print('Normalize: {:.2f}%'.format(duplicates / dset_size * 100))"
   ]
  },
  {
   "cell_type": "markdown",
   "metadata": {},
   "source": [
    "__Here is how severe this case is in test set__"
   ]
  },
  {
   "cell_type": "code",
   "execution_count": 116,
   "metadata": {},
   "outputs": [
    {
     "name": "stdout",
     "output_type": "stream",
     "text": [
      "Number of rows after do majority vote: 623\n",
      "Number of duplicate sentences: 33\n",
      "Normalize: 5.30%\n"
     ]
    }
   ],
   "source": [
    "duplicates = test_no_dup['sentence'].duplicated().sum()\n",
    "dset_size = test_no_dup.shape[0]\n",
    "print('Number of rows after do majority vote:', dset_size)\n",
    "print('Number of duplicate sentences:', duplicates)\n",
    "print('Normalize: {:.2f}%'.format(duplicates / dset_size * 100))"
   ]
  },
  {
   "cell_type": "markdown",
   "metadata": {},
   "source": [
    "#### CasIn order to prove that there are overlapping sentences in train, validation and test set, I will do majority vote on `direction` in each set to remove duplicates. Then I will concatenate train and validation set and check for duplicate sentences. I will also concatenate train and test set and check for duplicate sentences."
   ]
  },
  {
   "cell_type": "code",
   "execution_count": 55,
   "metadata": {},
   "outputs": [
    {
     "data": {
      "text/plain": [
       "460"
      ]
     },
     "execution_count": 55,
     "metadata": {},
     "output_type": "execute_result"
    }
   ],
   "source": [
    "train_and_val_dfs = [train_no_dup, val_no_dup]\n",
    "train_concat_val = pd.concat(train_and_val_dfs)\n",
    "train_concat_val['sentence'].duplicated().sum()"
   ]
  },
  {
   "cell_type": "code",
   "execution_count": 69,
   "metadata": {},
   "outputs": [
    {
     "data": {
      "text/html": [
       "<div>\n",
       "<style scoped>\n",
       "    .dataframe tbody tr th:only-of-type {\n",
       "        vertical-align: middle;\n",
       "    }\n",
       "\n",
       "    .dataframe tbody tr th {\n",
       "        vertical-align: top;\n",
       "    }\n",
       "\n",
       "    .dataframe thead th {\n",
       "        text-align: right;\n",
       "    }\n",
       "</style>\n",
       "<table border=\"1\" class=\"dataframe\">\n",
       "  <thead>\n",
       "    <tr style=\"text-align: right;\">\n",
       "      <th></th>\n",
       "      <th>Name</th>\n",
       "    </tr>\n",
       "  </thead>\n",
       "  <tbody>\n",
       "    <tr>\n",
       "      <th>0</th>\n",
       "      <td>tom</td>\n",
       "    </tr>\n",
       "    <tr>\n",
       "      <th>1</th>\n",
       "      <td>tom</td>\n",
       "    </tr>\n",
       "    <tr>\n",
       "      <th>2</th>\n",
       "      <td>tom</td>\n",
       "    </tr>\n",
       "  </tbody>\n",
       "</table>\n",
       "</div>"
      ],
      "text/plain": [
       "  Name\n",
       "0  tom\n",
       "1  tom\n",
       "2  tom"
      ]
     },
     "execution_count": 69,
     "metadata": {},
     "output_type": "execute_result"
    }
   ],
   "source": [
    "data = [['tom'], ['tom'], ['tom']]\n",
    "df = pd.DataFrame(data, columns=['Name'])\n",
    "df"
   ]
  },
  {
   "cell_type": "code",
   "execution_count": 70,
   "metadata": {},
   "outputs": [
    {
     "data": {
      "text/plain": [
       "2"
      ]
     },
     "execution_count": 70,
     "metadata": {},
     "output_type": "execute_result"
    }
   ],
   "source": [
    "df.duplicated().sum()"
   ]
  },
  {
   "cell_type": "code",
   "execution_count": null,
   "metadata": {},
   "outputs": [],
   "source": []
  }
 ],
 "metadata": {
  "kernelspec": {
   "display_name": "mrec_env",
   "language": "python",
   "name": "mrec_env"
  },
  "language_info": {
   "codemirror_mode": {
    "name": "ipython",
    "version": 3
   },
   "file_extension": ".py",
   "mimetype": "text/x-python",
   "name": "python",
   "nbconvert_exporter": "python",
   "pygments_lexer": "ipython3",
   "version": "3.8.5"
  }
 },
 "nbformat": 4,
 "nbformat_minor": 4
}
