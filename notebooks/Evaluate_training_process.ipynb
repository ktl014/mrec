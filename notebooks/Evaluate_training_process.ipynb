{
 "cells": [
  {
   "cell_type": "code",
   "execution_count": 3,
   "metadata": {},
   "outputs": [
    {
     "name": "stdout",
     "output_type": "stream",
     "text": [
      "C:\\Personal_Data\\Machine_Learning_Project\\Medical_Information_Extraction\\mrec\n"
     ]
    }
   ],
   "source": [
    "cd .."
   ]
  },
  {
   "cell_type": "code",
   "execution_count": 91,
   "metadata": {},
   "outputs": [],
   "source": [
    "import pandas as pd\n",
    "import numpy as np\n",
    "import matplotlib.pyplot as plt\n",
    "from sklearn.feature_extraction.text import CountVectorizer\n",
    "from sklearn.svm import NuSVC\n",
    "from sklearn.preprocessing import LabelEncoder\n",
    "from sklearn.metrics import accuracy_score, precision_score, recall_score, f1_score, roc_auc_score, plot_confusion_matrix, classification_report\n",
    "from mrec.data.dataset import load_data\n",
    "from mrec.features.transform import clean_text"
   ]
  },
  {
   "cell_type": "code",
   "execution_count": 153,
   "metadata": {},
   "outputs": [
    {
     "name": "stdout",
     "output_type": "stream",
     "text": [
      "[2020-12-22 15:41:24,765] [DEBUG] [mrec.data.dataset::load_data::48] Loaded dataset (train:dataset/raw/train.csv)\n",
      "[2020-12-22 15:41:24,791] [DEBUG] [mrec.data.dataset::load_data::48] Loaded dataset (validation:dataset/raw/validation.csv)\n",
      "[2020-12-22 15:41:24,819] [DEBUG] [mrec.data.dataset::load_data::48] Loaded dataset (test:dataset/raw/test.csv)\n"
     ]
    }
   ],
   "source": [
    "# Read in training, validation data and labels\n",
    "dataset = load_data(csv_fnames)\n",
    "train, validation, test = dataset.train, dataset.validation, dataset.test\n",
    "\n",
    "relation_type = ['causes', 'treats']\n",
    "train = train[['sentence', 'relation']][train['relation'].isin(relation_type)].drop_duplicates()\n",
    "validation = validation[['sentence', 'relation']][validation['relation'].isin(relation_type)].drop_duplicates()\n",
    "test = test[['sentence', 'relation']][test['relation'].isin(relation_type)].drop_duplicates()\n",
    "\n",
    "#TODO add feature engineering\n",
    "count_vect = CountVectorizer(ngram_range=(1, 3), analyzer=clean_text)\n",
    "X_counts_train = count_vect.fit_transform(train['sentence'])\n",
    "X_train_label = train['relation']\n",
    "\n",
    "most_popular_word_df = pd.DataFrame(X_counts_train.toarray(), columns=count_vect.get_feature_names())\n",
    "\n",
    "X_counts_validation = count_vect.transform(validation['sentence'])\n",
    "X_validation_label = validation['relation']\n",
    "\n",
    "X_counts_test = count_vect.transform(test['sentence'])\n",
    "X_test_label = test['relation']\n"
   ]
  },
  {
   "cell_type": "code",
   "execution_count": 186,
   "metadata": {},
   "outputs": [
    {
     "data": {
      "text/plain": [
       "['patient',\n",
       " 'treatment',\n",
       " 'cause',\n",
       " 'disease',\n",
       " 'may',\n",
       " 'pain',\n",
       " 'use',\n",
       " 'infection',\n",
       " '1',\n",
       " 'syndrome',\n",
       " 'study',\n",
       " 'therapy',\n",
       " '2',\n",
       " 'et',\n",
       " 'drug',\n",
       " 'al',\n",
       " 'b',\n",
       " 'trial',\n",
       " '•',\n",
       " 'control',\n",
       " 'symptom',\n",
       " 'type',\n",
       " 'case',\n",
       " 'agent',\n",
       " 'increase',\n",
       " 'present',\n",
       " 'include',\n",
       " 'hypertension',\n",
       " 'associate',\n",
       " 'result',\n",
       " 'virus',\n",
       " 'acute',\n",
       " 'cell',\n",
       " 'effect',\n",
       " 'clinical',\n",
       " 'treat',\n",
       " 'diabetes',\n",
       " 'disorder',\n",
       " 'severe',\n",
       " 'chronic',\n",
       " 'high',\n",
       " 'risk',\n",
       " 'fever',\n",
       " 'seizure',\n",
       " 'low',\n",
       " 'dose',\n",
       " 'reduce',\n",
       " 'c',\n",
       " 'insulin',\n",
       " 'oral',\n",
       " 'effective',\n",
       " 'report',\n",
       " 'diarrhea',\n",
       " 'eg',\n",
       " 'show',\n",
       " 'child',\n",
       " 'combination',\n",
       " 'diagnosis',\n",
       " 'also',\n",
       " 'bone',\n",
       " 'receive',\n",
       " 'compare',\n",
       " 'efficacy',\n",
       " 'see',\n",
       " 'randomize',\n",
       " '3',\n",
       " 'headache',\n",
       " 'response',\n",
       " 'woman',\n",
       " 'year',\n",
       " 'carcinoma',\n",
       " 'characterize',\n",
       " 'term',\n",
       " 'related',\n",
       " 'pregnancy',\n",
       " 'group',\n",
       " 'arthritis',\n",
       " 'human',\n",
       " 'consider',\n",
       " 'cancer',\n",
       " 'often',\n",
       " 'allergic',\n",
       " 'renal',\n",
       " 'follow',\n",
       " 'skin',\n",
       " 'acid',\n",
       " 'prevent',\n",
       " 'epilepsy',\n",
       " 'without',\n",
       " 'usually',\n",
       " 'placebo',\n",
       " 'mg',\n",
       " 'suggest',\n",
       " 'reaction',\n",
       " 'versus',\n",
       " 'prevention',\n",
       " 'occur',\n",
       " '5',\n",
       " 'evidence',\n",
       " 'migraine',\n",
       " 'test',\n",
       " 'induced',\n",
       " 'condition',\n",
       " 'p',\n",
       " 'review',\n",
       " 'common',\n",
       " 'blind',\n",
       " 'lesion',\n",
       " 'hepatitis',\n",
       " 'long',\n",
       " 'blood',\n",
       " 'form',\n",
       " 'colitis',\n",
       " 'osteoarthritis',\n",
       " 'early',\n",
       " 'primary',\n",
       " 'double',\n",
       " 'first',\n",
       " 'tumor',\n",
       " 'failure',\n",
       " 'presence',\n",
       " 'feature',\n",
       " 'major',\n",
       " 'history',\n",
       " 'pulmonary',\n",
       " 'respiratory',\n",
       " 'systemic',\n",
       " 'angina',\n",
       " 'factor',\n",
       " 'develop',\n",
       " 'g',\n",
       " 'lead',\n",
       " 'rate',\n",
       " 'number',\n",
       " 'management',\n",
       " 'daily',\n",
       " 'found',\n",
       " 'non',\n",
       " 'alone',\n",
       " 'rare',\n",
       " 'pheochromocytoma',\n",
       " 'administration',\n",
       " 'tract',\n",
       " 'loss',\n",
       " 'complication',\n",
       " 'l',\n",
       " 'liver',\n",
       " 'adult',\n",
       " 'rheumatoid',\n",
       " 'warfarin',\n",
       " 'decrease',\n",
       " 'level',\n",
       " 'infarction',\n",
       " 'however',\n",
       " 'resistant',\n",
       " '4',\n",
       " 'well',\n",
       " 'glucose',\n",
       " 'bleeding',\n",
       " 'know',\n",
       " 'tachycardia',\n",
       " 'mild',\n",
       " 'vitamin',\n",
       " 'large',\n",
       " 'randomise',\n",
       " 'myocardial',\n",
       " 'development',\n",
       " 'medication',\n",
       " 'one',\n",
       " 'due',\n",
       " 'role',\n",
       " 'occurs',\n",
       " 'weight',\n",
       " 'tissue',\n",
       " 'significant',\n",
       " 'although',\n",
       " 'give',\n",
       " 'new',\n",
       " 'small',\n",
       " 'leukemia',\n",
       " 'month',\n",
       " 'amphotericin',\n",
       " '10',\n",
       " '20',\n",
       " 'deficiency',\n",
       " 'tuberculosis',\n",
       " 'depression',\n",
       " 'specific',\n",
       " 'three',\n",
       " 'analysis',\n",
       " 'physical',\n",
       " 'day',\n",
       " 'plus',\n",
       " 'indicate',\n",
       " 'aspirin',\n",
       " 'phase',\n",
       " 'two',\n",
       " 'hiv',\n",
       " 'cutaneous',\n",
       " 'alternative']"
      ]
     },
     "execution_count": 186,
     "metadata": {},
     "output_type": "execute_result"
    }
   ],
   "source": [
    "temp_df = pd.DataFrame(most_popular_word_df.sum(axis=0), columns=['count']).sort_values(by='count', ascending=False)\n",
    "count_vec_top_200 = list(temp_df['count'][:200].index)\n",
    "count_vec_top_200"
   ]
  },
  {
   "cell_type": "code",
   "execution_count": 66,
   "metadata": {},
   "outputs": [],
   "source": [
    "def print_metric(gtruth, predictions, dset_name):\n",
    "    \"\"\"Print 5 scoring metrics: accuracy, roc_auc, f1, precision, and recall\n",
    "\n",
    "    Args:\n",
    "        gtruth (array): label (either 0 or 1)\n",
    "        predictions (array): model prediction (either 0 or 1)\n",
    "        dset_name: the dataset that is evaluating on\n",
    "    \"\"\"\n",
    "    accuracy = round(accuracy_score(gtruth, predictions), 4)\n",
    "    roc_auc = round(roc_auc_score(gtruth, predictions), 4)\n",
    "    f1 = round(f1_score(gtruth, predictions), 4)\n",
    "    precision = round(precision_score(gtruth, predictions), 4)\n",
    "    recall = round(recall_score(gtruth, predictions), 4)\n",
    "    print('{:>10} {:>11} {:>12} {:>12} {:>11} {:>12}'.format(dset_name, accuracy, roc_auc, f1, precision, recall))\n",
    "\n",
    "def evaluate_model(model, X, y, dset_name):\n",
    "    \"\"\"Evaluate on given model\n",
    "\n",
    "    Args:\n",
    "        model: NuSVC()\n",
    "        X: countvectorizers of feature(s)\n",
    "        y: label\n",
    "        dset_name: dataset that is evaluating on\n",
    "    \"\"\"\n",
    "    enc = LabelEncoder()\n",
    "\n",
    "    predictions = model.predict(X)\n",
    "    gtruth = enc.fit_transform(y)\n",
    "    encoder_predictions = enc.transform(predictions)\n",
    "\n",
    "    print_metric(gtruth, encoder_predictions, dset_name)\n",
    "    return predictions"
   ]
  },
  {
   "cell_type": "code",
   "execution_count": 207,
   "metadata": {},
   "outputs": [
    {
     "name": "stdout",
     "output_type": "stream",
     "text": [
      "Training model..\n",
      "               Accuracy      ROC_AUC     F1-score    Precision     Recall\n",
      "     Train      0.9615       0.9589       0.9545      0.9692       0.9403\n",
      "Validation      0.7966       0.7942       0.7771      0.8085        0.748\n",
      "      Test      0.8293       0.8242       0.8017      0.8251       0.7797\n"
     ]
    }
   ],
   "source": [
    "\"\"\"Train the best model\"\"\"\n",
    "model = NuSVC()\n",
    "\n",
    "print('Training model..')\n",
    "model.fit(X_counts_train, X_train_label)\n",
    "\n",
    "print('{:>23} {:>12} {:>12} {:>12} {:>10}'.format('Accuracy', 'ROC_AUC', 'F1-score', 'Precision', 'Recall'))\n",
    "evaluate_model(model, X_counts_train, X_train_label, 'Train')\n",
    "\n",
    "val_predictions = evaluate_model(model, X_counts_validation, X_validation_label, 'Validation')\n",
    "\n",
    "predictions = evaluate_model(model, X_counts_test, X_test_label, 'Test')"
   ]
  },
  {
   "cell_type": "code",
   "execution_count": 148,
   "metadata": {},
   "outputs": [
    {
     "name": "stdout",
     "output_type": "stream",
     "text": [
      "[2020-12-22 15:18:11,780] [DEBUG] [matplotlib.colorbar::_get_ticker_locator_formatter::600] locator: <matplotlib.colorbar._ColorbarAutoLocator object at 0x00000147FA77B940>\n",
      "[2020-12-22 15:18:11,781] [DEBUG] [matplotlib.colorbar::update_ticks::645] Using auto colorbar locator <matplotlib.colorbar._ColorbarAutoLocator object at 0x00000147FA77B940> on colorbar\n",
      "[2020-12-22 15:18:11,781] [DEBUG] [matplotlib.colorbar::_add_solids::802] Setting pcolormesh\n"
     ]
    },
    {
     "data": {
      "image/png": "[encoded data removed]",
      "text/plain": [
       "<Figure size 432x288 with 2 Axes>"
      ]
     },
     "metadata": {
      "needs_background": "light"
     },
     "output_type": "display_data"
    }
   ],
   "source": [
    "class_names = X_test_label.unique()\n",
    "plot_confusion_matrix(model, X_counts_test, X_test_label,\n",
    "                      display_labels=class_names,\n",
    "                      cmap=plt.cm.Blues,\n",
    "                      normalize='true')\n",
    "plt.show()"
   ]
  },
  {
   "cell_type": "code",
   "execution_count": 149,
   "metadata": {},
   "outputs": [
    {
     "name": "stdout",
     "output_type": "stream",
     "text": [
      "              precision    recall  f1-score   support\n",
      "\n",
      "      causes       0.83      0.87      0.85       297\n",
      "      treats       0.83      0.78      0.80       236\n",
      "\n",
      "    accuracy                           0.83       533\n",
      "   macro avg       0.83      0.82      0.83       533\n",
      "weighted avg       0.83      0.83      0.83       533\n",
      "\n"
     ]
    }
   ],
   "source": [
    "enc = LabelEncoder()\n",
    "gtruth = enc.fit_transform(X_test_label)\n",
    "encoder_predictions = enc.transform(predictions)\n",
    "print(classification_report(gtruth, encoder_predictions, target_names=class_names))"
   ]
  },
  {
   "cell_type": "code",
   "execution_count": 75,
   "metadata": {},
   "outputs": [
    {
     "name": "stdout",
     "output_type": "stream",
     "text": [
      "[2020-12-22 13:30:15,690] [DEBUG] [mrec.data.dataset::load_data::48] Loaded dataset (train:dataset/raw/train.csv)\n",
      "[2020-12-22 13:30:15,711] [DEBUG] [mrec.data.dataset::load_data::48] Loaded dataset (validation:dataset/raw/validation.csv)\n",
      "[2020-12-22 13:30:15,734] [DEBUG] [mrec.data.dataset::load_data::48] Loaded dataset (test:dataset/raw/test.csv)\n"
     ]
    }
   ],
   "source": [
    "csv_fnames = {'train': 'dataset/raw/train.csv', 'validation': 'dataset/raw/validation.csv',\n",
    "              'test': 'dataset/raw/test.csv'}\n",
    "relation_type = ['causes', 'treats']\n",
    "dataset = load_data(csv_fnames)\n",
    "train_df, validation_df, test_df = dataset.train, dataset.validation, dataset.test\n",
    "\n",
    "train_df = train_df[['sentence', 'relation']][train_df['relation'].isin(relation_type)].drop_duplicates()\n",
    "validation_df = validation_df[['sentence', 'relation']][validation_df['relation'].isin(relation_type)].drop_duplicates()\n",
    "test_df = test_df[['sentence', 'relation']][test_df['relation'].isin(relation_type)].drop_duplicates()"
   ]
  },
  {
   "cell_type": "markdown",
   "metadata": {},
   "source": [
    "## Reasson why model fails to classify relation in test set"
   ]
  },
  {
   "cell_type": "code",
   "execution_count": 79,
   "metadata": {},
   "outputs": [
    {
     "data": {
      "text/html": [
       "<div>\n",
       "<style scoped>\n",
       "    .dataframe tbody tr th:only-of-type {\n",
       "        vertical-align: middle;\n",
       "    }\n",
       "\n",
       "    .dataframe tbody tr th {\n",
       "        vertical-align: top;\n",
       "    }\n",
       "\n",
       "    .dataframe thead th {\n",
       "        text-align: right;\n",
       "    }\n",
       "</style>\n",
       "<table border=\"1\" class=\"dataframe\">\n",
       "  <thead>\n",
       "    <tr style=\"text-align: right;\">\n",
       "      <th></th>\n",
       "      <th>sentence</th>\n",
       "      <th>relation</th>\n",
       "      <th>pred</th>\n",
       "    </tr>\n",
       "  </thead>\n",
       "  <tbody>\n",
       "    <tr>\n",
       "      <th>28</th>\n",
       "      <td>Clonidine, oxymetazoline, tetrahydozoline, bri...</td>\n",
       "      <td>treats</td>\n",
       "      <td>causes</td>\n",
       "    </tr>\n",
       "    <tr>\n",
       "      <th>42</th>\n",
       "      <td>With successful treatment of the patient's dep...</td>\n",
       "      <td>causes</td>\n",
       "      <td>treats</td>\n",
       "    </tr>\n",
       "    <tr>\n",
       "      <th>56</th>\n",
       "      <td>The therapeutic results of Lp TAE (transcathet...</td>\n",
       "      <td>causes</td>\n",
       "      <td>treats</td>\n",
       "    </tr>\n",
       "    <tr>\n",
       "      <th>294</th>\n",
       "      <td>INSULIN PEPTIDE B9 23 is a major autoantigen i...</td>\n",
       "      <td>treats</td>\n",
       "      <td>causes</td>\n",
       "    </tr>\n",
       "    <tr>\n",
       "      <th>364</th>\n",
       "      <td>Update: Prevention of HEPATITIS A after exposu...</td>\n",
       "      <td>causes</td>\n",
       "      <td>treats</td>\n",
       "    </tr>\n",
       "    <tr>\n",
       "      <th>...</th>\n",
       "      <td>...</td>\n",
       "      <td>...</td>\n",
       "      <td>...</td>\n",
       "    </tr>\n",
       "    <tr>\n",
       "      <th>4503</th>\n",
       "      <td>• Progressive loss of epinephrine and GLUCAGON...</td>\n",
       "      <td>treats</td>\n",
       "      <td>causes</td>\n",
       "    </tr>\n",
       "    <tr>\n",
       "      <th>4510</th>\n",
       "      <td>Hemoperfusion  Hemoperfusion through columns o...</td>\n",
       "      <td>treats</td>\n",
       "      <td>causes</td>\n",
       "    </tr>\n",
       "    <tr>\n",
       "      <th>4517</th>\n",
       "      <td>Continuous epidural analgesia with 0.1% bupiva...</td>\n",
       "      <td>treats</td>\n",
       "      <td>causes</td>\n",
       "    </tr>\n",
       "    <tr>\n",
       "      <th>4524</th>\n",
       "      <td>2  Confirm congenital antithrombin III deficie...</td>\n",
       "      <td>treats</td>\n",
       "      <td>causes</td>\n",
       "    </tr>\n",
       "    <tr>\n",
       "      <th>4545</th>\n",
       "      <td>Pituitary, anterior  Front portion of small gl...</td>\n",
       "      <td>treats</td>\n",
       "      <td>causes</td>\n",
       "    </tr>\n",
       "  </tbody>\n",
       "</table>\n",
       "<p>91 rows × 3 columns</p>\n",
       "</div>"
      ],
      "text/plain": [
       "                                               sentence relation    pred\n",
       "28    Clonidine, oxymetazoline, tetrahydozoline, bri...   treats  causes\n",
       "42    With successful treatment of the patient's dep...   causes  treats\n",
       "56    The therapeutic results of Lp TAE (transcathet...   causes  treats\n",
       "294   INSULIN PEPTIDE B9 23 is a major autoantigen i...   treats  causes\n",
       "364   Update: Prevention of HEPATITIS A after exposu...   causes  treats\n",
       "...                                                 ...      ...     ...\n",
       "4503  • Progressive loss of epinephrine and GLUCAGON...   treats  causes\n",
       "4510  Hemoperfusion  Hemoperfusion through columns o...   treats  causes\n",
       "4517  Continuous epidural analgesia with 0.1% bupiva...   treats  causes\n",
       "4524  2  Confirm congenital antithrombin III deficie...   treats  causes\n",
       "4545  Pituitary, anterior  Front portion of small gl...   treats  causes\n",
       "\n",
       "[91 rows x 3 columns]"
      ]
     },
     "execution_count": 79,
     "metadata": {},
     "output_type": "execute_result"
    }
   ],
   "source": [
    "test_df['pred'] = predictions\n",
    "false_pred_df = test_df[test_df['relation'] != test_df['pred']]\n",
    "false_pred_df"
   ]
  },
  {
   "cell_type": "code",
   "execution_count": 206,
   "metadata": {},
   "outputs": [
    {
     "data": {
      "text/plain": [
       "\"With successful treatment of the patient's depression with IMIPRAMINE the tremors disappeared, but slowly began again after drug noncompliance resulted in recurrence of DEPRESSION.\""
      ]
     },
     "execution_count": 206,
     "metadata": {},
     "output_type": "execute_result"
    }
   ],
   "source": [
    "false_pred_df.iloc[1].sentence"
   ]
  },
  {
   "cell_type": "code",
   "execution_count": 205,
   "metadata": {},
   "outputs": [
    {
     "data": {
      "text/html": [
       "<div>\n",
       "<style scoped>\n",
       "    .dataframe tbody tr th:only-of-type {\n",
       "        vertical-align: middle;\n",
       "    }\n",
       "\n",
       "    .dataframe tbody tr th {\n",
       "        vertical-align: top;\n",
       "    }\n",
       "\n",
       "    .dataframe thead th {\n",
       "        text-align: right;\n",
       "    }\n",
       "</style>\n",
       "<table border=\"1\" class=\"dataframe\">\n",
       "  <thead>\n",
       "    <tr style=\"text-align: right;\">\n",
       "      <th></th>\n",
       "      <th>_unit_id</th>\n",
       "      <th>relation</th>\n",
       "      <th>sentence</th>\n",
       "      <th>direction</th>\n",
       "      <th>term1</th>\n",
       "      <th>term2</th>\n",
       "    </tr>\n",
       "  </thead>\n",
       "  <tbody>\n",
       "    <tr>\n",
       "      <th>805</th>\n",
       "      <td>502904695</td>\n",
       "      <td>causes</td>\n",
       "      <td>INSULIN PEPTIDE B9 23 is a major autoantigen i...</td>\n",
       "      <td>no_relation</td>\n",
       "      <td>TYPE 1 DIABETES</td>\n",
       "      <td>INSULIN PEPTIDE B9 23</td>\n",
       "    </tr>\n",
       "    <tr>\n",
       "      <th>806</th>\n",
       "      <td>502904695</td>\n",
       "      <td>causes</td>\n",
       "      <td>INSULIN PEPTIDE B9 23 is a major autoantigen i...</td>\n",
       "      <td>no_relation</td>\n",
       "      <td>TYPE 1 DIABETES</td>\n",
       "      <td>INSULIN PEPTIDE B9 23</td>\n",
       "    </tr>\n",
       "    <tr>\n",
       "      <th>807</th>\n",
       "      <td>502904695</td>\n",
       "      <td>causes</td>\n",
       "      <td>INSULIN PEPTIDE B9 23 is a major autoantigen i...</td>\n",
       "      <td>no_relation</td>\n",
       "      <td>TYPE 1 DIABETES</td>\n",
       "      <td>INSULIN PEPTIDE B9 23</td>\n",
       "    </tr>\n",
       "    <tr>\n",
       "      <th>808</th>\n",
       "      <td>502904695</td>\n",
       "      <td>causes</td>\n",
       "      <td>INSULIN PEPTIDE B9 23 is a major autoantigen i...</td>\n",
       "      <td>no_relation</td>\n",
       "      <td>TYPE 1 DIABETES</td>\n",
       "      <td>INSULIN PEPTIDE B9 23</td>\n",
       "    </tr>\n",
       "    <tr>\n",
       "      <th>809</th>\n",
       "      <td>502904695</td>\n",
       "      <td>causes</td>\n",
       "      <td>INSULIN PEPTIDE B9 23 is a major autoantigen i...</td>\n",
       "      <td>no_relation</td>\n",
       "      <td>TYPE 1 DIABETES</td>\n",
       "      <td>INSULIN PEPTIDE B9 23</td>\n",
       "    </tr>\n",
       "    <tr>\n",
       "      <th>810</th>\n",
       "      <td>502904695</td>\n",
       "      <td>causes</td>\n",
       "      <td>INSULIN PEPTIDE B9 23 is a major autoantigen i...</td>\n",
       "      <td>TYPE 1 DIABETES causes INSULIN PEPTIDE B9 23</td>\n",
       "      <td>TYPE 1 DIABETES</td>\n",
       "      <td>INSULIN PEPTIDE B9 23</td>\n",
       "    </tr>\n",
       "    <tr>\n",
       "      <th>811</th>\n",
       "      <td>502904695</td>\n",
       "      <td>causes</td>\n",
       "      <td>INSULIN PEPTIDE B9 23 is a major autoantigen i...</td>\n",
       "      <td>no_relation</td>\n",
       "      <td>TYPE 1 DIABETES</td>\n",
       "      <td>INSULIN PEPTIDE B9 23</td>\n",
       "    </tr>\n",
       "  </tbody>\n",
       "</table>\n",
       "</div>"
      ],
      "text/plain": [
       "      _unit_id relation                                           sentence  \\\n",
       "805  502904695   causes  INSULIN PEPTIDE B9 23 is a major autoantigen i...   \n",
       "806  502904695   causes  INSULIN PEPTIDE B9 23 is a major autoantigen i...   \n",
       "807  502904695   causes  INSULIN PEPTIDE B9 23 is a major autoantigen i...   \n",
       "808  502904695   causes  INSULIN PEPTIDE B9 23 is a major autoantigen i...   \n",
       "809  502904695   causes  INSULIN PEPTIDE B9 23 is a major autoantigen i...   \n",
       "810  502904695   causes  INSULIN PEPTIDE B9 23 is a major autoantigen i...   \n",
       "811  502904695   causes  INSULIN PEPTIDE B9 23 is a major autoantigen i...   \n",
       "\n",
       "                                        direction            term1  \\\n",
       "805                                   no_relation  TYPE 1 DIABETES   \n",
       "806                                   no_relation  TYPE 1 DIABETES   \n",
       "807                                   no_relation  TYPE 1 DIABETES   \n",
       "808                                   no_relation  TYPE 1 DIABETES   \n",
       "809                                   no_relation  TYPE 1 DIABETES   \n",
       "810  TYPE 1 DIABETES causes INSULIN PEPTIDE B9 23  TYPE 1 DIABETES   \n",
       "811                                   no_relation  TYPE 1 DIABETES   \n",
       "\n",
       "                     term2  \n",
       "805  INSULIN PEPTIDE B9 23  \n",
       "806  INSULIN PEPTIDE B9 23  \n",
       "807  INSULIN PEPTIDE B9 23  \n",
       "808  INSULIN PEPTIDE B9 23  \n",
       "809  INSULIN PEPTIDE B9 23  \n",
       "810  INSULIN PEPTIDE B9 23  \n",
       "811  INSULIN PEPTIDE B9 23  "
      ]
     },
     "execution_count": 205,
     "metadata": {},
     "output_type": "execute_result"
    }
   ],
   "source": [
    "raw = dataset.train[['_unit_id', 'relation', 'sentence', 'direction', 'term1', 'term2']]\n",
    "raw[raw['sentence'] == \"INSULIN PEPTIDE B9 23 is a major autoantigen in TYPE 1 DIABETES\"]"
   ]
  },
  {
   "cell_type": "markdown",
   "metadata": {},
   "source": [
    "## Reason why model fails to classify in validation set"
   ]
  },
  {
   "cell_type": "code",
   "execution_count": 214,
   "metadata": {},
   "outputs": [
    {
     "data": {
      "text/html": [
       "<div>\n",
       "<style scoped>\n",
       "    .dataframe tbody tr th:only-of-type {\n",
       "        vertical-align: middle;\n",
       "    }\n",
       "\n",
       "    .dataframe tbody tr th {\n",
       "        vertical-align: top;\n",
       "    }\n",
       "\n",
       "    .dataframe thead th {\n",
       "        text-align: right;\n",
       "    }\n",
       "</style>\n",
       "<table border=\"1\" class=\"dataframe\">\n",
       "  <thead>\n",
       "    <tr style=\"text-align: right;\">\n",
       "      <th></th>\n",
       "      <th>sentence</th>\n",
       "      <th>relation</th>\n",
       "      <th>pred</th>\n",
       "    </tr>\n",
       "  </thead>\n",
       "  <tbody>\n",
       "    <tr>\n",
       "      <th>42</th>\n",
       "      <td>A possible role of LEU in sensomotor cortex is...</td>\n",
       "      <td>treats</td>\n",
       "      <td>causes</td>\n",
       "    </tr>\n",
       "    <tr>\n",
       "      <th>63</th>\n",
       "      <td>It was concluded (1) that CFI values were redu...</td>\n",
       "      <td>treats</td>\n",
       "      <td>causes</td>\n",
       "    </tr>\n",
       "    <tr>\n",
       "      <th>133</th>\n",
       "      <td>Depletion of T gamma cells from in vitro cell ...</td>\n",
       "      <td>causes</td>\n",
       "      <td>treats</td>\n",
       "    </tr>\n",
       "    <tr>\n",
       "      <th>140</th>\n",
       "      <td>When topically applied to the eye before aller...</td>\n",
       "      <td>treats</td>\n",
       "      <td>causes</td>\n",
       "    </tr>\n",
       "    <tr>\n",
       "      <th>252</th>\n",
       "      <td>The number of patients with well controlled HY...</td>\n",
       "      <td>causes</td>\n",
       "      <td>treats</td>\n",
       "    </tr>\n",
       "  </tbody>\n",
       "</table>\n",
       "</div>"
      ],
      "text/plain": [
       "                                              sentence relation    pred\n",
       "42   A possible role of LEU in sensomotor cortex is...   treats  causes\n",
       "63   It was concluded (1) that CFI values were redu...   treats  causes\n",
       "133  Depletion of T gamma cells from in vitro cell ...   causes  treats\n",
       "140  When topically applied to the eye before aller...   treats  causes\n",
       "252  The number of patients with well controlled HY...   causes  treats"
      ]
     },
     "execution_count": 214,
     "metadata": {},
     "output_type": "execute_result"
    }
   ],
   "source": [
    "validation_df['pred'] = val_predictions\n",
    "validation_df_false_pred = validation_df[validation_df['pred'] != validation_df['relation']]\n",
    "validation_df_false_pred.head()"
   ]
  },
  {
   "cell_type": "code",
   "execution_count": 210,
   "metadata": {},
   "outputs": [
    {
     "data": {
      "text/plain": [
       "'A possible role of LEU in sensomotor cortex is limitation of intensity and duration of SEIZURES and prevention of STATUS EPILEPTICUS'"
      ]
     },
     "execution_count": 210,
     "metadata": {},
     "output_type": "execute_result"
    }
   ],
   "source": [
    "validation_df_false_pred.iloc[0].sentence"
   ]
  },
  {
   "cell_type": "code",
   "execution_count": 216,
   "metadata": {},
   "outputs": [
    {
     "data": {
      "text/html": [
       "<div>\n",
       "<style scoped>\n",
       "    .dataframe tbody tr th:only-of-type {\n",
       "        vertical-align: middle;\n",
       "    }\n",
       "\n",
       "    .dataframe tbody tr th {\n",
       "        vertical-align: top;\n",
       "    }\n",
       "\n",
       "    .dataframe thead th {\n",
       "        text-align: right;\n",
       "    }\n",
       "</style>\n",
       "<table border=\"1\" class=\"dataframe\">\n",
       "  <thead>\n",
       "    <tr style=\"text-align: right;\">\n",
       "      <th></th>\n",
       "      <th>_unit_id</th>\n",
       "      <th>relation</th>\n",
       "      <th>sentence</th>\n",
       "      <th>direction</th>\n",
       "      <th>term1</th>\n",
       "      <th>term2</th>\n",
       "    </tr>\n",
       "  </thead>\n",
       "  <tbody>\n",
       "    <tr>\n",
       "      <th>42</th>\n",
       "      <td>502808401</td>\n",
       "      <td>treats</td>\n",
       "      <td>A possible role of LEU in sensomotor cortex is...</td>\n",
       "      <td>no_relation</td>\n",
       "      <td>SEIZURES</td>\n",
       "      <td>STATUS EPILEPTICUS</td>\n",
       "    </tr>\n",
       "    <tr>\n",
       "      <th>43</th>\n",
       "      <td>502808401</td>\n",
       "      <td>treats</td>\n",
       "      <td>A possible role of LEU in sensomotor cortex is...</td>\n",
       "      <td>STATUS EPILEPTICUS treats SEIZURES</td>\n",
       "      <td>SEIZURES</td>\n",
       "      <td>STATUS EPILEPTICUS</td>\n",
       "    </tr>\n",
       "    <tr>\n",
       "      <th>44</th>\n",
       "      <td>502808401</td>\n",
       "      <td>treats</td>\n",
       "      <td>A possible role of LEU in sensomotor cortex is...</td>\n",
       "      <td>no_relation</td>\n",
       "      <td>SEIZURES</td>\n",
       "      <td>STATUS EPILEPTICUS</td>\n",
       "    </tr>\n",
       "    <tr>\n",
       "      <th>45</th>\n",
       "      <td>502808401</td>\n",
       "      <td>treats</td>\n",
       "      <td>A possible role of LEU in sensomotor cortex is...</td>\n",
       "      <td>no_relation</td>\n",
       "      <td>SEIZURES</td>\n",
       "      <td>STATUS EPILEPTICUS</td>\n",
       "    </tr>\n",
       "    <tr>\n",
       "      <th>46</th>\n",
       "      <td>502808401</td>\n",
       "      <td>treats</td>\n",
       "      <td>A possible role of LEU in sensomotor cortex is...</td>\n",
       "      <td>no_relation</td>\n",
       "      <td>SEIZURES</td>\n",
       "      <td>STATUS EPILEPTICUS</td>\n",
       "    </tr>\n",
       "    <tr>\n",
       "      <th>47</th>\n",
       "      <td>502808401</td>\n",
       "      <td>treats</td>\n",
       "      <td>A possible role of LEU in sensomotor cortex is...</td>\n",
       "      <td>no_relation</td>\n",
       "      <td>SEIZURES</td>\n",
       "      <td>STATUS EPILEPTICUS</td>\n",
       "    </tr>\n",
       "    <tr>\n",
       "      <th>48</th>\n",
       "      <td>502808401</td>\n",
       "      <td>treats</td>\n",
       "      <td>A possible role of LEU in sensomotor cortex is...</td>\n",
       "      <td>no_relation</td>\n",
       "      <td>SEIZURES</td>\n",
       "      <td>STATUS EPILEPTICUS</td>\n",
       "    </tr>\n",
       "  </tbody>\n",
       "</table>\n",
       "</div>"
      ],
      "text/plain": [
       "     _unit_id relation                                           sentence  \\\n",
       "42  502808401   treats  A possible role of LEU in sensomotor cortex is...   \n",
       "43  502808401   treats  A possible role of LEU in sensomotor cortex is...   \n",
       "44  502808401   treats  A possible role of LEU in sensomotor cortex is...   \n",
       "45  502808401   treats  A possible role of LEU in sensomotor cortex is...   \n",
       "46  502808401   treats  A possible role of LEU in sensomotor cortex is...   \n",
       "47  502808401   treats  A possible role of LEU in sensomotor cortex is...   \n",
       "48  502808401   treats  A possible role of LEU in sensomotor cortex is...   \n",
       "\n",
       "                             direction     term1               term2  \n",
       "42                         no_relation  SEIZURES  STATUS EPILEPTICUS  \n",
       "43  STATUS EPILEPTICUS treats SEIZURES  SEIZURES  STATUS EPILEPTICUS  \n",
       "44                         no_relation  SEIZURES  STATUS EPILEPTICUS  \n",
       "45                         no_relation  SEIZURES  STATUS EPILEPTICUS  \n",
       "46                         no_relation  SEIZURES  STATUS EPILEPTICUS  \n",
       "47                         no_relation  SEIZURES  STATUS EPILEPTICUS  \n",
       "48                         no_relation  SEIZURES  STATUS EPILEPTICUS  "
      ]
     },
     "execution_count": 216,
     "metadata": {},
     "output_type": "execute_result"
    }
   ],
   "source": [
    "raw_df = dataset.validation[['_unit_id', 'relation', 'sentence', 'direction', 'term1', 'term2']]\n",
    "raw_df[raw_df['sentence'] == 'A possible role of LEU in sensomotor cortex is limitation of intensity and duration of SEIZURES and prevention of STATUS EPILEPTICUS']"
   ]
  },
  {
   "cell_type": "code",
   "execution_count": 217,
   "metadata": {},
   "outputs": [
    {
     "data": {
      "text/html": [
       "<div>\n",
       "<style scoped>\n",
       "    .dataframe tbody tr th:only-of-type {\n",
       "        vertical-align: middle;\n",
       "    }\n",
       "\n",
       "    .dataframe tbody tr th {\n",
       "        vertical-align: top;\n",
       "    }\n",
       "\n",
       "    .dataframe thead th {\n",
       "        text-align: right;\n",
       "    }\n",
       "</style>\n",
       "<table border=\"1\" class=\"dataframe\">\n",
       "  <thead>\n",
       "    <tr style=\"text-align: right;\">\n",
       "      <th></th>\n",
       "      <th>_unit_id</th>\n",
       "      <th>relation</th>\n",
       "      <th>sentence</th>\n",
       "      <th>direction</th>\n",
       "      <th>term1</th>\n",
       "      <th>term2</th>\n",
       "    </tr>\n",
       "  </thead>\n",
       "  <tbody>\n",
       "    <tr>\n",
       "      <th>63</th>\n",
       "      <td>502808365</td>\n",
       "      <td>causes</td>\n",
       "      <td>A possible role of LEU in sensomotor cortex is...</td>\n",
       "      <td>SEIZURES causes STATUS EPILEPTICUS</td>\n",
       "      <td>SEIZURES</td>\n",
       "      <td>STATUS EPILEPTICUS</td>\n",
       "    </tr>\n",
       "    <tr>\n",
       "      <th>64</th>\n",
       "      <td>502808365</td>\n",
       "      <td>causes</td>\n",
       "      <td>A possible role of LEU in sensomotor cortex is...</td>\n",
       "      <td>SEIZURES causes STATUS EPILEPTICUS</td>\n",
       "      <td>SEIZURES</td>\n",
       "      <td>STATUS EPILEPTICUS</td>\n",
       "    </tr>\n",
       "    <tr>\n",
       "      <th>65</th>\n",
       "      <td>502808365</td>\n",
       "      <td>causes</td>\n",
       "      <td>A possible role of LEU in sensomotor cortex is...</td>\n",
       "      <td>no_relation</td>\n",
       "      <td>SEIZURES</td>\n",
       "      <td>STATUS EPILEPTICUS</td>\n",
       "    </tr>\n",
       "    <tr>\n",
       "      <th>66</th>\n",
       "      <td>502808365</td>\n",
       "      <td>causes</td>\n",
       "      <td>A possible role of LEU in sensomotor cortex is...</td>\n",
       "      <td>SEIZURES causes STATUS EPILEPTICUS</td>\n",
       "      <td>SEIZURES</td>\n",
       "      <td>STATUS EPILEPTICUS</td>\n",
       "    </tr>\n",
       "    <tr>\n",
       "      <th>67</th>\n",
       "      <td>502808365</td>\n",
       "      <td>causes</td>\n",
       "      <td>A possible role of LEU in sensomotor cortex is...</td>\n",
       "      <td>no_relation</td>\n",
       "      <td>SEIZURES</td>\n",
       "      <td>STATUS EPILEPTICUS</td>\n",
       "    </tr>\n",
       "    <tr>\n",
       "      <th>68</th>\n",
       "      <td>502808365</td>\n",
       "      <td>causes</td>\n",
       "      <td>A possible role of LEU in sensomotor cortex is...</td>\n",
       "      <td>no_relation</td>\n",
       "      <td>SEIZURES</td>\n",
       "      <td>STATUS EPILEPTICUS</td>\n",
       "    </tr>\n",
       "    <tr>\n",
       "      <th>69</th>\n",
       "      <td>502808365</td>\n",
       "      <td>causes</td>\n",
       "      <td>A possible role of LEU in sensomotor cortex is...</td>\n",
       "      <td>SEIZURES causes STATUS EPILEPTICUS</td>\n",
       "      <td>SEIZURES</td>\n",
       "      <td>STATUS EPILEPTICUS</td>\n",
       "    </tr>\n",
       "  </tbody>\n",
       "</table>\n",
       "</div>"
      ],
      "text/plain": [
       "     _unit_id relation                                           sentence  \\\n",
       "63  502808365   causes  A possible role of LEU in sensomotor cortex is...   \n",
       "64  502808365   causes  A possible role of LEU in sensomotor cortex is...   \n",
       "65  502808365   causes  A possible role of LEU in sensomotor cortex is...   \n",
       "66  502808365   causes  A possible role of LEU in sensomotor cortex is...   \n",
       "67  502808365   causes  A possible role of LEU in sensomotor cortex is...   \n",
       "68  502808365   causes  A possible role of LEU in sensomotor cortex is...   \n",
       "69  502808365   causes  A possible role of LEU in sensomotor cortex is...   \n",
       "\n",
       "                             direction     term1               term2  \n",
       "63  SEIZURES causes STATUS EPILEPTICUS  SEIZURES  STATUS EPILEPTICUS  \n",
       "64  SEIZURES causes STATUS EPILEPTICUS  SEIZURES  STATUS EPILEPTICUS  \n",
       "65                         no_relation  SEIZURES  STATUS EPILEPTICUS  \n",
       "66  SEIZURES causes STATUS EPILEPTICUS  SEIZURES  STATUS EPILEPTICUS  \n",
       "67                         no_relation  SEIZURES  STATUS EPILEPTICUS  \n",
       "68                         no_relation  SEIZURES  STATUS EPILEPTICUS  \n",
       "69  SEIZURES causes STATUS EPILEPTICUS  SEIZURES  STATUS EPILEPTICUS  "
      ]
     },
     "execution_count": 217,
     "metadata": {},
     "output_type": "execute_result"
    }
   ],
   "source": [
    "raw_df = dataset.train[['_unit_id', 'relation', 'sentence', 'direction', 'term1', 'term2']]\n",
    "raw_df[raw_df['sentence'] == 'A possible role of LEU in sensomotor cortex is limitation of intensity and duration of SEIZURES and prevention of STATUS EPILEPTICUS']"
   ]
  },
  {
   "cell_type": "code",
   "execution_count": 127,
   "metadata": {},
   "outputs": [
    {
     "data": {
      "text/plain": [
       "(533, 6825)"
      ]
     },
     "execution_count": 127,
     "metadata": {},
     "output_type": "execute_result"
    }
   ],
   "source": [
    "pd.set_option('display.max_columns', 7000)\n",
    "count_vect_df = pd.DataFrame(test.toarray(), columns=count_vect.get_feature_names())\n",
    "count_vect_df.shape"
   ]
  },
  {
   "cell_type": "code",
   "execution_count": 117,
   "metadata": {},
   "outputs": [
    {
     "data": {
      "text/html": [
       "<div>\n",
       "<style scoped>\n",
       "    .dataframe tbody tr th:only-of-type {\n",
       "        vertical-align: middle;\n",
       "    }\n",
       "\n",
       "    .dataframe tbody tr th {\n",
       "        vertical-align: top;\n",
       "    }\n",
       "\n",
       "    .dataframe thead th {\n",
       "        text-align: right;\n",
       "    }\n",
       "</style>\n",
       "<table border=\"1\" class=\"dataframe\">\n",
       "  <thead>\n",
       "    <tr style=\"text-align: right;\">\n",
       "      <th></th>\n",
       "      <th>sentence</th>\n",
       "      <th>relation</th>\n",
       "      <th>body_len</th>\n",
       "      <th>chacracter count</th>\n",
       "      <th>word count</th>\n",
       "    </tr>\n",
       "  </thead>\n",
       "  <tbody>\n",
       "    <tr>\n",
       "      <th>0</th>\n",
       "      <td>For treatment of uncomplicated cervical, URETH...</td>\n",
       "      <td>treats</td>\n",
       "      <td>161</td>\n",
       "      <td>161</td>\n",
       "      <td>27</td>\n",
       "    </tr>\n",
       "    <tr>\n",
       "      <th>21</th>\n",
       "      <td>SALMETEROL prevented EXERCISE INDUCED ASTHMA i...</td>\n",
       "      <td>treats</td>\n",
       "      <td>79</td>\n",
       "      <td>79</td>\n",
       "      <td>16</td>\n",
       "    </tr>\n",
       "    <tr>\n",
       "      <th>28</th>\n",
       "      <td>The patients showed the characteristic facies ...</td>\n",
       "      <td>causes</td>\n",
       "      <td>208</td>\n",
       "      <td>208</td>\n",
       "      <td>31</td>\n",
       "    </tr>\n",
       "    <tr>\n",
       "      <th>35</th>\n",
       "      <td>Dyskinesias occur in the majority of patients ...</td>\n",
       "      <td>treats</td>\n",
       "      <td>199</td>\n",
       "      <td>199</td>\n",
       "      <td>34</td>\n",
       "    </tr>\n",
       "    <tr>\n",
       "      <th>42</th>\n",
       "      <td>ENDOTOXEMIA was evoked by bolus injection of E...</td>\n",
       "      <td>causes</td>\n",
       "      <td>248</td>\n",
       "      <td>248</td>\n",
       "      <td>42</td>\n",
       "    </tr>\n",
       "  </tbody>\n",
       "</table>\n",
       "</div>"
      ],
      "text/plain": [
       "                                             sentence relation  body_len  \\\n",
       "0   For treatment of uncomplicated cervical, URETH...   treats       161   \n",
       "21  SALMETEROL prevented EXERCISE INDUCED ASTHMA i...   treats        79   \n",
       "28  The patients showed the characteristic facies ...   causes       208   \n",
       "35  Dyskinesias occur in the majority of patients ...   treats       199   \n",
       "42  ENDOTOXEMIA was evoked by bolus injection of E...   causes       248   \n",
       "\n",
       "    chacracter count  word count  \n",
       "0                161          27  \n",
       "21                79          16  \n",
       "28               208          31  \n",
       "35               199          34  \n",
       "42               248          42  "
      ]
     },
     "execution_count": 117,
     "metadata": {},
     "output_type": "execute_result"
    }
   ],
   "source": [
    "# Function to calculate length of message excluding space\n",
    "train_df['chacracter count'] = train_df['sentence'].apply(lambda x: len(x) - x.count(\" \"))\n",
    "train_df['word count'] = train_df['sentence'].apply(lambda x: len(x.split()))\n",
    "train_df.head()"
   ]
  },
  {
   "cell_type": "markdown",
   "metadata": {},
   "source": [
    "## Character Count"
   ]
  },
  {
   "cell_type": "code",
   "execution_count": 118,
   "metadata": {},
   "outputs": [
    {
     "data": {
      "image/png": "[encoded data removed]",
      "text/plain": [
       "<Figure size 432x288 with 1 Axes>"
      ]
     },
     "metadata": {
      "needs_background": "light"
     },
     "output_type": "display_data"
    }
   ],
   "source": [
    "bins = np.linspace(0, 600, 60)\n",
    "\n",
    "plt.hist(train_df[train_df['relation']=='causes']['chacracter count'], bins, alpha=0.5, label='causes', density=True)\n",
    "plt.hist(train_df[train_df['relation']=='treats']['chacracter count'], bins, alpha=0.5, label='treats', density=True)\n",
    "plt.legend(loc='upper right')\n",
    "plt.show()"
   ]
  },
  {
   "cell_type": "code",
   "execution_count": 119,
   "metadata": {},
   "outputs": [
    {
     "name": "stderr",
     "output_type": "stream",
     "text": [
      "<ipython-input-119-9d97392b5ce7>:1: SettingWithCopyWarning: \n",
      "A value is trying to be set on a copy of a slice from a DataFrame.\n",
      "Try using .loc[row_indexer,col_indexer] = value instead\n",
      "\n",
      "See the caveats in the documentation: https://pandas.pydata.org/pandas-docs/stable/user_guide/indexing.html#returning-a-view-versus-a-copy\n",
      "  false_pred_df['chacracter count'] = false_pred_df['sentence'].apply(lambda x: len(x) - x.count(\" \"))\n"
     ]
    },
    {
     "data": {
      "image/png": "[encoded data removed]",
      "text/plain": [
       "<Figure size 432x288 with 1 Axes>"
      ]
     },
     "metadata": {
      "needs_background": "light"
     },
     "output_type": "display_data"
    }
   ],
   "source": [
    "false_pred_df['chacracter count'] = false_pred_df['sentence'].apply(lambda x: len(x) - x.count(\" \"))\n",
    "bins = np.linspace(0, 600, 60)\n",
    "\n",
    "plt.hist(false_pred_df[false_pred_df['relation']=='causes']['chacracter count'], bins, alpha=0.5, label='causes', density=True)\n",
    "plt.hist(false_pred_df[false_pred_df['relation']=='treats']['chacracter count'], bins, alpha=0.5, label='treats', density=True)\n",
    "plt.legend(loc='upper right')\n",
    "plt.show()"
   ]
  },
  {
   "cell_type": "markdown",
   "metadata": {},
   "source": [
    "## Word Count"
   ]
  },
  {
   "cell_type": "code",
   "execution_count": 123,
   "metadata": {},
   "outputs": [
    {
     "data": {
      "image/png": "[encoded data removed]",
      "text/plain": [
       "<Figure size 432x288 with 1 Axes>"
      ]
     },
     "metadata": {
      "needs_background": "light"
     },
     "output_type": "display_data"
    }
   ],
   "source": [
    "bins = np.linspace(0, 100, 60)\n",
    "\n",
    "plt.hist(train_df[train_df['relation']=='causes']['word count'], bins, alpha=0.5, label='causes', density=True)\n",
    "plt.hist(train_df[train_df['relation']=='treats']['word count'], bins, alpha=0.5, label='treats', density=True)\n",
    "plt.legend(loc='upper right')\n",
    "plt.show()"
   ]
  },
  {
   "cell_type": "code",
   "execution_count": 125,
   "metadata": {},
   "outputs": [
    {
     "name": "stderr",
     "output_type": "stream",
     "text": [
      "<ipython-input-125-2e4c20c7994b>:1: SettingWithCopyWarning: \n",
      "A value is trying to be set on a copy of a slice from a DataFrame.\n",
      "Try using .loc[row_indexer,col_indexer] = value instead\n",
      "\n",
      "See the caveats in the documentation: https://pandas.pydata.org/pandas-docs/stable/user_guide/indexing.html#returning-a-view-versus-a-copy\n",
      "  false_pred_df['word count'] = false_pred_df['sentence'].apply(lambda x: len(x.split()))\n"
     ]
    },
    {
     "data": {
      "image/png": "[encoded data removed]",
      "text/plain": [
       "<Figure size 432x288 with 1 Axes>"
      ]
     },
     "metadata": {
      "needs_background": "light"
     },
     "output_type": "display_data"
    }
   ],
   "source": [
    "false_pred_df['word count'] = false_pred_df['sentence'].apply(lambda x: len(x.split()))\n",
    "bins = np.linspace(0, 100, 60)\n",
    "\n",
    "plt.hist(false_pred_df[false_pred_df['relation']=='causes']['word count'], bins, alpha=0.5, label='causes', density=True)\n",
    "plt.hist(false_pred_df[false_pred_df['relation']=='treats']['word count'], bins, alpha=0.5, label='treats', density=True)\n",
    "plt.legend(loc='upper right')\n",
    "plt.show()"
   ]
  },
  {
   "cell_type": "markdown",
   "metadata": {},
   "source": [
    "## Punctuation Count"
   ]
  },
  {
   "cell_type": "code",
   "execution_count": 135,
   "metadata": {},
   "outputs": [
    {
     "data": {
      "text/html": [
       "<div>\n",
       "<style scoped>\n",
       "    .dataframe tbody tr th:only-of-type {\n",
       "        vertical-align: middle;\n",
       "    }\n",
       "\n",
       "    .dataframe tbody tr th {\n",
       "        vertical-align: top;\n",
       "    }\n",
       "\n",
       "    .dataframe thead th {\n",
       "        text-align: right;\n",
       "    }\n",
       "</style>\n",
       "<table border=\"1\" class=\"dataframe\">\n",
       "  <thead>\n",
       "    <tr style=\"text-align: right;\">\n",
       "      <th></th>\n",
       "      <th>sentence</th>\n",
       "      <th>relation</th>\n",
       "      <th>body_len</th>\n",
       "      <th>chacracter count</th>\n",
       "      <th>word count</th>\n",
       "      <th>punct%</th>\n",
       "    </tr>\n",
       "  </thead>\n",
       "  <tbody>\n",
       "    <tr>\n",
       "      <th>0</th>\n",
       "      <td>For treatment of uncomplicated cervical, URETH...</td>\n",
       "      <td>treats</td>\n",
       "      <td>161</td>\n",
       "      <td>161</td>\n",
       "      <td>27</td>\n",
       "      <td>1.9</td>\n",
       "    </tr>\n",
       "    <tr>\n",
       "      <th>21</th>\n",
       "      <td>SALMETEROL prevented EXERCISE INDUCED ASTHMA i...</td>\n",
       "      <td>treats</td>\n",
       "      <td>79</td>\n",
       "      <td>79</td>\n",
       "      <td>16</td>\n",
       "      <td>5.1</td>\n",
       "    </tr>\n",
       "    <tr>\n",
       "      <th>28</th>\n",
       "      <td>The patients showed the characteristic facies ...</td>\n",
       "      <td>causes</td>\n",
       "      <td>208</td>\n",
       "      <td>208</td>\n",
       "      <td>31</td>\n",
       "      <td>2.4</td>\n",
       "    </tr>\n",
       "    <tr>\n",
       "      <th>35</th>\n",
       "      <td>Dyskinesias occur in the majority of patients ...</td>\n",
       "      <td>treats</td>\n",
       "      <td>199</td>\n",
       "      <td>199</td>\n",
       "      <td>34</td>\n",
       "      <td>3.5</td>\n",
       "    </tr>\n",
       "    <tr>\n",
       "      <th>42</th>\n",
       "      <td>ENDOTOXEMIA was evoked by bolus injection of E...</td>\n",
       "      <td>causes</td>\n",
       "      <td>248</td>\n",
       "      <td>248</td>\n",
       "      <td>42</td>\n",
       "      <td>1.6</td>\n",
       "    </tr>\n",
       "  </tbody>\n",
       "</table>\n",
       "</div>"
      ],
      "text/plain": [
       "                                             sentence relation  body_len  \\\n",
       "0   For treatment of uncomplicated cervical, URETH...   treats       161   \n",
       "21  SALMETEROL prevented EXERCISE INDUCED ASTHMA i...   treats        79   \n",
       "28  The patients showed the characteristic facies ...   causes       208   \n",
       "35  Dyskinesias occur in the majority of patients ...   treats       199   \n",
       "42  ENDOTOXEMIA was evoked by bolus injection of E...   causes       248   \n",
       "\n",
       "    chacracter count  word count  punct%  \n",
       "0                161          27     1.9  \n",
       "21                79          16     5.1  \n",
       "28               208          31     2.4  \n",
       "35               199          34     3.5  \n",
       "42               248          42     1.6  "
      ]
     },
     "execution_count": 135,
     "metadata": {},
     "output_type": "execute_result"
    }
   ],
   "source": [
    "import string \n",
    "def count_punct(text):\n",
    "    count = sum([1 for char in text if char in string.punctuation])\n",
    "    return round(count/(len(text) - text.count(\" \")), 3)*100\n",
    "\n",
    "train_df['punct%'] = train_df['sentence'].apply(lambda x: count_punct(x))\n",
    "train_df.head()"
   ]
  },
  {
   "cell_type": "code",
   "execution_count": 137,
   "metadata": {},
   "outputs": [
    {
     "data": {
      "image/png": "[encoded data removed]",
      "text/plain": [
       "<Figure size 432x288 with 1 Axes>"
      ]
     },
     "metadata": {
      "needs_background": "light"
     },
     "output_type": "display_data"
    }
   ],
   "source": [
    "bins = np.linspace(0, 20, 40)\n",
    "\n",
    "plt.hist(train_df[train_df['relation']=='causes']['punct%'], bins, alpha=0.5, label='causes', density=True)\n",
    "plt.hist(train_df[train_df['relation']=='treats']['punct%'], bins, alpha=0.5, label='treats', density=True)\n",
    "plt.legend(loc='upper right')\n",
    "plt.show()"
   ]
  },
  {
   "cell_type": "markdown",
   "metadata": {},
   "source": [
    "## TF-IDF vs CountVectorizer"
   ]
  },
  {
   "cell_type": "code",
   "execution_count": 141,
   "metadata": {},
   "outputs": [],
   "source": [
    "from sklearn.feature_extraction.text import TfidfVectorizer\n",
    "\n",
    "tfidf_vect = TfidfVectorizer(ngram_range=(1, 3), analyzer=clean_text, use_idf=False)\n",
    "X_tfidf_train = tfidf_vect.fit_transform(train_df['sentence'])\n",
    "X_tfidf_train_label = train_df['relation']\n",
    "\n",
    "'''\n",
    "indices = np.argsort(tfidf_vect.idf_)[::-1]\n",
    "features = tfidf_vect.get_feature_names()\n",
    "top_n = 200\n",
    "top_features = [features[i] for i in indices[:top_n]]\n",
    "print(top_features)\n",
    "'''\n",
    "\n",
    "X_tfidf_eval = tfidf_vect.transform(validation_df['sentence'])\n",
    "X_tfidf_eval_label = validation_df['relation']\n",
    "\n",
    "X_tfidf_test = tfidf_vect.transform(test_df['sentence'])\n",
    "X_tfidf_test_label = test_df['relation']"
   ]
  },
  {
   "cell_type": "code",
   "execution_count": 142,
   "metadata": {},
   "outputs": [
    {
     "name": "stdout",
     "output_type": "stream",
     "text": [
      "Training model..\n",
      "               Accuracy      ROC_AUC     F1-score    Precision     Recall\n",
      "     Train      0.9653       0.9628       0.9591      0.9738       0.9448\n",
      "Validation       0.806       0.8037       0.7878      0.8178       0.7598\n",
      "      Test      0.8293        0.825       0.8035      0.8194       0.7881\n"
     ]
    }
   ],
   "source": [
    "new_model = NuSVC()\n",
    "\n",
    "print('Training model..')\n",
    "new_model.fit(X_tfidf_train, X_tfidf_train_label)\n",
    "\n",
    "print('{:>23} {:>12} {:>12} {:>12} {:>10}'.format('Accuracy', 'ROC_AUC', 'F1-score', 'Precision', 'Recall'))\n",
    "evaluate_model(new_model, X_tfidf_train, X_tfidf_train_label, 'Train')\n",
    "\n",
    "evaluate_model(new_model, X_tfidf_eval, X_tfidf_eval_label, 'Validation')\n",
    "\n",
    "predictions = evaluate_model(new_model, X_tfidf_test, X_tfidf_test_label, 'Test')"
   ]
  },
  {
   "cell_type": "code",
   "execution_count": 143,
   "metadata": {},
   "outputs": [
    {
     "name": "stdout",
     "output_type": "stream",
     "text": [
      "              precision    recall  f1-score   support\n",
      "\n",
      "      causes       0.84      0.86      0.85       297\n",
      "      treats       0.82      0.79      0.80       236\n",
      "\n",
      "    accuracy                           0.83       533\n",
      "   macro avg       0.83      0.83      0.83       533\n",
      "weighted avg       0.83      0.83      0.83       533\n",
      "\n"
     ]
    }
   ],
   "source": [
    "enc = LabelEncoder()\n",
    "gtruth = enc.fit_transform(X_tfidf_test_label)\n",
    "encoder_predictions = enc.transform(predictions)\n",
    "print(classification_report(gtruth, encoder_predictions, target_names=class_names))"
   ]
  },
  {
   "cell_type": "code",
   "execution_count": 144,
   "metadata": {},
   "outputs": [
    {
     "name": "stdout",
     "output_type": "stream",
     "text": [
      "[2020-12-22 15:09:44,834] [DEBUG] [matplotlib.colorbar::_get_ticker_locator_formatter::600] locator: <matplotlib.colorbar._ColorbarAutoLocator object at 0x00000147FA91CEE0>\n",
      "[2020-12-22 15:09:44,835] [DEBUG] [matplotlib.colorbar::update_ticks::645] Using auto colorbar locator <matplotlib.colorbar._ColorbarAutoLocator object at 0x00000147FA91CEE0> on colorbar\n",
      "[2020-12-22 15:09:44,835] [DEBUG] [matplotlib.colorbar::_add_solids::802] Setting pcolormesh\n"
     ]
    },
    {
     "data": {
      "image/png": "[encoded data removed]",
      "text/plain": [
       "<Figure size 432x288 with 2 Axes>"
      ]
     },
     "metadata": {
      "needs_background": "light"
     },
     "output_type": "display_data"
    }
   ],
   "source": [
    "class_names = X_tfidf_test_label.unique()\n",
    "plot_confusion_matrix(new_model, X_tfidf_test, X_tfidf_test_label,\n",
    "                      display_labels=class_names,\n",
    "                      cmap=plt.cm.Blues,\n",
    "                      normalize='true')\n",
    "plt.show()"
   ]
  },
  {
   "cell_type": "code",
   "execution_count": null,
   "metadata": {},
   "outputs": [],
   "source": []
  }
 ],
 "metadata": {
  "kernelspec": {
   "display_name": "mrec_env",
   "language": "python",
   "name": "mrec_env"
  },
  "language_info": {
   "codemirror_mode": {
    "name": "ipython",
    "version": 3
   },
   "file_extension": ".py",
   "mimetype": "text/x-python",
   "name": "python",
   "nbconvert_exporter": "python",
   "pygments_lexer": "ipython3",
   "version": "3.8.5"
  }
 },
 "nbformat": 4,
 "nbformat_minor": 4
}
